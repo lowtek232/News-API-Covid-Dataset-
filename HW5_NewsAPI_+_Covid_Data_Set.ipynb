{
  "nbformat": 4,
  "nbformat_minor": 0,
  "metadata": {
    "colab": {
      "name": "HW5 NewsAPI + Covid Data Set",
      "provenance": [],
      "collapsed_sections": []
    },
    "kernelspec": {
      "name": "python3",
      "display_name": "Python 3"
    },
    "language_info": {
      "name": "python"
    }
  },
  "cells": [
    {
      "cell_type": "code",
      "metadata": {
        "colab": {
          "base_uri": "https://localhost:8080/"
        },
        "id": "cElXMvge3aPE",
        "outputId": "654b3122-6998-47d0-bcaf-39c3cb2c0ab1"
      },
      "source": [
        "!pip install spacy\n",
        "!pip install newsapi-python"
      ],
      "execution_count": 1,
      "outputs": [
        {
          "output_type": "stream",
          "text": [
            "Requirement already satisfied: spacy in /usr/local/lib/python3.7/dist-packages (2.2.4)\n",
            "Requirement already satisfied: cymem<2.1.0,>=2.0.2 in /usr/local/lib/python3.7/dist-packages (from spacy) (2.0.5)\n",
            "Requirement already satisfied: plac<1.2.0,>=0.9.6 in /usr/local/lib/python3.7/dist-packages (from spacy) (1.1.3)\n",
            "Requirement already satisfied: wasabi<1.1.0,>=0.4.0 in /usr/local/lib/python3.7/dist-packages (from spacy) (0.8.2)\n",
            "Requirement already satisfied: requests<3.0.0,>=2.13.0 in /usr/local/lib/python3.7/dist-packages (from spacy) (2.23.0)\n",
            "Requirement already satisfied: preshed<3.1.0,>=3.0.2 in /usr/local/lib/python3.7/dist-packages (from spacy) (3.0.5)\n",
            "Requirement already satisfied: thinc==7.4.0 in /usr/local/lib/python3.7/dist-packages (from spacy) (7.4.0)\n",
            "Requirement already satisfied: setuptools in /usr/local/lib/python3.7/dist-packages (from spacy) (54.1.2)\n",
            "Requirement already satisfied: numpy>=1.15.0 in /usr/local/lib/python3.7/dist-packages (from spacy) (1.19.5)\n",
            "Requirement already satisfied: tqdm<5.0.0,>=4.38.0 in /usr/local/lib/python3.7/dist-packages (from spacy) (4.41.1)\n",
            "Requirement already satisfied: blis<0.5.0,>=0.4.0 in /usr/local/lib/python3.7/dist-packages (from spacy) (0.4.1)\n",
            "Requirement already satisfied: catalogue<1.1.0,>=0.0.7 in /usr/local/lib/python3.7/dist-packages (from spacy) (1.0.0)\n",
            "Requirement already satisfied: srsly<1.1.0,>=1.0.2 in /usr/local/lib/python3.7/dist-packages (from spacy) (1.0.5)\n",
            "Requirement already satisfied: murmurhash<1.1.0,>=0.28.0 in /usr/local/lib/python3.7/dist-packages (from spacy) (1.0.5)\n",
            "Requirement already satisfied: chardet<4,>=3.0.2 in /usr/local/lib/python3.7/dist-packages (from requests<3.0.0,>=2.13.0->spacy) (3.0.4)\n",
            "Requirement already satisfied: idna<3,>=2.5 in /usr/local/lib/python3.7/dist-packages (from requests<3.0.0,>=2.13.0->spacy) (2.10)\n",
            "Requirement already satisfied: certifi>=2017.4.17 in /usr/local/lib/python3.7/dist-packages (from requests<3.0.0,>=2.13.0->spacy) (2020.12.5)\n",
            "Requirement already satisfied: urllib3!=1.25.0,!=1.25.1,<1.26,>=1.21.1 in /usr/local/lib/python3.7/dist-packages (from requests<3.0.0,>=2.13.0->spacy) (1.24.3)\n",
            "Requirement already satisfied: importlib-metadata>=0.20; python_version < \"3.8\" in /usr/local/lib/python3.7/dist-packages (from catalogue<1.1.0,>=0.0.7->spacy) (3.7.2)\n",
            "Requirement already satisfied: zipp>=0.5 in /usr/local/lib/python3.7/dist-packages (from importlib-metadata>=0.20; python_version < \"3.8\"->catalogue<1.1.0,>=0.0.7->spacy) (3.4.1)\n",
            "Requirement already satisfied: typing-extensions>=3.6.4; python_version < \"3.8\" in /usr/local/lib/python3.7/dist-packages (from importlib-metadata>=0.20; python_version < \"3.8\"->catalogue<1.1.0,>=0.0.7->spacy) (3.7.4.3)\n",
            "Requirement already satisfied: newsapi-python in /usr/local/lib/python3.7/dist-packages (0.2.6)\n",
            "Requirement already satisfied: requests<3.0.0 in /usr/local/lib/python3.7/dist-packages (from newsapi-python) (2.23.0)\n",
            "Requirement already satisfied: chardet<4,>=3.0.2 in /usr/local/lib/python3.7/dist-packages (from requests<3.0.0->newsapi-python) (3.0.4)\n",
            "Requirement already satisfied: certifi>=2017.4.17 in /usr/local/lib/python3.7/dist-packages (from requests<3.0.0->newsapi-python) (2020.12.5)\n",
            "Requirement already satisfied: urllib3!=1.25.0,!=1.25.1,<1.26,>=1.21.1 in /usr/local/lib/python3.7/dist-packages (from requests<3.0.0->newsapi-python) (1.24.3)\n",
            "Requirement already satisfied: idna<3,>=2.5 in /usr/local/lib/python3.7/dist-packages (from requests<3.0.0->newsapi-python) (2.10)\n"
          ],
          "name": "stdout"
        }
      ]
    },
    {
      "cell_type": "code",
      "metadata": {
        "colab": {
          "base_uri": "https://localhost:8080/"
        },
        "id": "gtjeWHRH3usG",
        "outputId": "592d1e0a-665e-4594-d8a6-c04ce4e71c2c"
      },
      "source": [
        "!python -m spacy download en_core_web_lg\n"
      ],
      "execution_count": 2,
      "outputs": [
        {
          "output_type": "stream",
          "text": [
            "Requirement already satisfied: en_core_web_lg==2.2.5 from https://github.com/explosion/spacy-models/releases/download/en_core_web_lg-2.2.5/en_core_web_lg-2.2.5.tar.gz#egg=en_core_web_lg==2.2.5 in /usr/local/lib/python3.7/dist-packages (2.2.5)\n",
            "Requirement already satisfied: spacy>=2.2.2 in /usr/local/lib/python3.7/dist-packages (from en_core_web_lg==2.2.5) (2.2.4)\n",
            "Requirement already satisfied: catalogue<1.1.0,>=0.0.7 in /usr/local/lib/python3.7/dist-packages (from spacy>=2.2.2->en_core_web_lg==2.2.5) (1.0.0)\n",
            "Requirement already satisfied: setuptools in /usr/local/lib/python3.7/dist-packages (from spacy>=2.2.2->en_core_web_lg==2.2.5) (54.1.2)\n",
            "Requirement already satisfied: wasabi<1.1.0,>=0.4.0 in /usr/local/lib/python3.7/dist-packages (from spacy>=2.2.2->en_core_web_lg==2.2.5) (0.8.2)\n",
            "Requirement already satisfied: cymem<2.1.0,>=2.0.2 in /usr/local/lib/python3.7/dist-packages (from spacy>=2.2.2->en_core_web_lg==2.2.5) (2.0.5)\n",
            "Requirement already satisfied: numpy>=1.15.0 in /usr/local/lib/python3.7/dist-packages (from spacy>=2.2.2->en_core_web_lg==2.2.5) (1.19.5)\n",
            "Requirement already satisfied: tqdm<5.0.0,>=4.38.0 in /usr/local/lib/python3.7/dist-packages (from spacy>=2.2.2->en_core_web_lg==2.2.5) (4.41.1)\n",
            "Requirement already satisfied: preshed<3.1.0,>=3.0.2 in /usr/local/lib/python3.7/dist-packages (from spacy>=2.2.2->en_core_web_lg==2.2.5) (3.0.5)\n",
            "Requirement already satisfied: thinc==7.4.0 in /usr/local/lib/python3.7/dist-packages (from spacy>=2.2.2->en_core_web_lg==2.2.5) (7.4.0)\n",
            "Requirement already satisfied: plac<1.2.0,>=0.9.6 in /usr/local/lib/python3.7/dist-packages (from spacy>=2.2.2->en_core_web_lg==2.2.5) (1.1.3)\n",
            "Requirement already satisfied: blis<0.5.0,>=0.4.0 in /usr/local/lib/python3.7/dist-packages (from spacy>=2.2.2->en_core_web_lg==2.2.5) (0.4.1)\n",
            "Requirement already satisfied: murmurhash<1.1.0,>=0.28.0 in /usr/local/lib/python3.7/dist-packages (from spacy>=2.2.2->en_core_web_lg==2.2.5) (1.0.5)\n",
            "Requirement already satisfied: srsly<1.1.0,>=1.0.2 in /usr/local/lib/python3.7/dist-packages (from spacy>=2.2.2->en_core_web_lg==2.2.5) (1.0.5)\n",
            "Requirement already satisfied: requests<3.0.0,>=2.13.0 in /usr/local/lib/python3.7/dist-packages (from spacy>=2.2.2->en_core_web_lg==2.2.5) (2.23.0)\n",
            "Requirement already satisfied: importlib-metadata>=0.20; python_version < \"3.8\" in /usr/local/lib/python3.7/dist-packages (from catalogue<1.1.0,>=0.0.7->spacy>=2.2.2->en_core_web_lg==2.2.5) (3.7.2)\n",
            "Requirement already satisfied: chardet<4,>=3.0.2 in /usr/local/lib/python3.7/dist-packages (from requests<3.0.0,>=2.13.0->spacy>=2.2.2->en_core_web_lg==2.2.5) (3.0.4)\n",
            "Requirement already satisfied: idna<3,>=2.5 in /usr/local/lib/python3.7/dist-packages (from requests<3.0.0,>=2.13.0->spacy>=2.2.2->en_core_web_lg==2.2.5) (2.10)\n",
            "Requirement already satisfied: urllib3!=1.25.0,!=1.25.1,<1.26,>=1.21.1 in /usr/local/lib/python3.7/dist-packages (from requests<3.0.0,>=2.13.0->spacy>=2.2.2->en_core_web_lg==2.2.5) (1.24.3)\n",
            "Requirement already satisfied: certifi>=2017.4.17 in /usr/local/lib/python3.7/dist-packages (from requests<3.0.0,>=2.13.0->spacy>=2.2.2->en_core_web_lg==2.2.5) (2020.12.5)\n",
            "Requirement already satisfied: zipp>=0.5 in /usr/local/lib/python3.7/dist-packages (from importlib-metadata>=0.20; python_version < \"3.8\"->catalogue<1.1.0,>=0.0.7->spacy>=2.2.2->en_core_web_lg==2.2.5) (3.4.1)\n",
            "Requirement already satisfied: typing-extensions>=3.6.4; python_version < \"3.8\" in /usr/local/lib/python3.7/dist-packages (from importlib-metadata>=0.20; python_version < \"3.8\"->catalogue<1.1.0,>=0.0.7->spacy>=2.2.2->en_core_web_lg==2.2.5) (3.7.4.3)\n",
            "\u001b[38;5;2m✔ Download and installation successful\u001b[0m\n",
            "You can now load the model via spacy.load('en_core_web_lg')\n"
          ],
          "name": "stdout"
        }
      ]
    },
    {
      "cell_type": "code",
      "metadata": {
        "id": "JnzdxD8h4n0Z"
      },
      "source": [
        "# Author: Kenny Chhoeun\n",
        "# CS 4650 Big Data Analytics\n",
        "# HW 5\n",
        "import spacy\n",
        "nlp_eng = spacy.load('en_core_web_lg')"
      ],
      "execution_count": 12,
      "outputs": []
    },
    {
      "cell_type": "code",
      "metadata": {
        "id": "QQkcnKOp9-ai"
      },
      "source": [
        "from newsapi import NewsApiClient\n",
        "newsapi = NewsApiClient (api_key='7b07f902e50f463db5140a5c9e156d8f')"
      ],
      "execution_count": 4,
      "outputs": []
    },
    {
      "cell_type": "code",
      "metadata": {
        "id": "hP-s0O1_-pkH"
      },
      "source": [
        "articles = []\n",
        "for x in range(1,5):\n",
        "  articles.append(newsapi.get_everything(q='coronavirus', language='en', from_param='2021-02-19', to='2021-03-18', sort_by='relevancy', page=x))"
      ],
      "execution_count": 5,
      "outputs": []
    },
    {
      "cell_type": "code",
      "metadata": {
        "id": "CcMtriK7A_ma"
      },
      "source": [
        "import pickle\n",
        "filename = 'articlesCOVID.pckl'\n",
        "pickle.dump(articles, open(filename, 'wb'))\n",
        "filename = 'articlesCOVID.pckl'\n",
        "loaded_model = pickle.load(open(filename, 'rb'))\n",
        "filepath = 'articlesCOVID.pckl'\n",
        "pickle.dump(loaded_model, open(filepath, 'wb'))"
      ],
      "execution_count": 6,
      "outputs": []
    },
    {
      "cell_type": "code",
      "metadata": {
        "colab": {
          "base_uri": "https://localhost:8080/",
          "height": 204
        },
        "id": "vCiffnalFye5",
        "outputId": "f1c3158a-9d9f-436d-a236-cc04bfdcfbb4"
      },
      "source": [
        "import pandas as pd\n",
        "\n",
        "dados = []\n",
        "\n",
        "for i, article in enumerate(articles):\n",
        "    for x in article['articles']:\n",
        "        title = x['title']\n",
        "        date = x['publishedAt']\n",
        "        description = x['description']\n",
        "        content = x['content']\n",
        "        # removed the [0] from title, data, and description since it only returns the first character\n",
        "        dados.append({'title':title, 'date':date, 'desc':description, 'content':content})\n",
        "        \n",
        "df = pd.DataFrame(dados)\n",
        "df = df.dropna()\n",
        "df.head()"
      ],
      "execution_count": 9,
      "outputs": [
        {
          "output_type": "execute_result",
          "data": {
            "text/html": [
              "<div>\n",
              "<style scoped>\n",
              "    .dataframe tbody tr th:only-of-type {\n",
              "        vertical-align: middle;\n",
              "    }\n",
              "\n",
              "    .dataframe tbody tr th {\n",
              "        vertical-align: top;\n",
              "    }\n",
              "\n",
              "    .dataframe thead th {\n",
              "        text-align: right;\n",
              "    }\n",
              "</style>\n",
              "<table border=\"1\" class=\"dataframe\">\n",
              "  <thead>\n",
              "    <tr style=\"text-align: right;\">\n",
              "      <th></th>\n",
              "      <th>title</th>\n",
              "      <th>date</th>\n",
              "      <th>desc</th>\n",
              "      <th>content</th>\n",
              "    </tr>\n",
              "  </thead>\n",
              "  <tbody>\n",
              "    <tr>\n",
              "      <th>0</th>\n",
              "      <td>Coronavirus Briefing: What Happened Today</td>\n",
              "      <td>2021-03-12T23:12:19Z</td>\n",
              "      <td>An optimistic view of the weeks ahead.</td>\n",
              "      <td>What do you think the next few months look lik...</td>\n",
              "    </tr>\n",
              "    <tr>\n",
              "      <th>1</th>\n",
              "      <td>Your N.B.A. Coronavirus Questions, Answered</td>\n",
              "      <td>2021-03-11T22:49:26Z</td>\n",
              "      <td>Can fans attend all games? Will players be vac...</td>\n",
              "      <td>Why havent I seen Wayne Knight in the ads for ...</td>\n",
              "    </tr>\n",
              "    <tr>\n",
              "      <th>2</th>\n",
              "      <td>Coronavirus Briefing: What Happened Today</td>\n",
              "      <td>2021-03-11T23:32:45Z</td>\n",
              "      <td>Israel’s reopening, and  vaccine doses in limbo.</td>\n",
              "      <td>How is the Green Passport system working, for ...</td>\n",
              "    </tr>\n",
              "    <tr>\n",
              "      <th>3</th>\n",
              "      <td>Coronavirus Briefing: What Happened Today</td>\n",
              "      <td>2021-03-16T22:21:05Z</td>\n",
              "      <td>The U.S. political divide is affecting its vac...</td>\n",
              "      <td>Similar laborious efforts may have to be scale...</td>\n",
              "    </tr>\n",
              "    <tr>\n",
              "      <th>4</th>\n",
              "      <td>Coronavirus Briefing: What Happened Today</td>\n",
              "      <td>2021-03-09T23:04:24Z</td>\n",
              "      <td>People with underlying conditions are begging ...</td>\n",
              "      <td>But medical ethicists say the list is misleadi...</td>\n",
              "    </tr>\n",
              "  </tbody>\n",
              "</table>\n",
              "</div>"
            ],
            "text/plain": [
              "                                         title  ...                                            content\n",
              "0    Coronavirus Briefing: What Happened Today  ...  What do you think the next few months look lik...\n",
              "1  Your N.B.A. Coronavirus Questions, Answered  ...  Why havent I seen Wayne Knight in the ads for ...\n",
              "2    Coronavirus Briefing: What Happened Today  ...  How is the Green Passport system working, for ...\n",
              "3    Coronavirus Briefing: What Happened Today  ...  Similar laborious efforts may have to be scale...\n",
              "4    Coronavirus Briefing: What Happened Today  ...  But medical ethicists say the list is misleadi...\n",
              "\n",
              "[5 rows x 4 columns]"
            ]
          },
          "metadata": {
            "tags": []
          },
          "execution_count": 9
        }
      ]
    },
    {
      "cell_type": "code",
      "metadata": {
        "colab": {
          "base_uri": "https://localhost:8080/",
          "height": 419
        },
        "id": "Zub1RJgjfXwQ",
        "outputId": "8ff39a41-a384-433a-e781-e3574cfb60ca"
      },
      "source": [
        "result = []\n",
        "results = []\n",
        "pos_tag = ['VERB', 'NOUN', 'PROPN']\n",
        "\n",
        "import collections, string\n",
        "Counter = collections.Counter\n",
        "punctuation = string.punctuation\n",
        "\n",
        "def get_keywords_eng(content):\n",
        "  doc = nlp_eng(content)\n",
        "  for token in doc:\n",
        "    if (token.text in nlp_eng.Defaults.stop_words or token.text in punctuation):\n",
        "      continue\n",
        "    if(token.pos_ in pos_tag):\n",
        "      result.append(token.text)\n",
        "  return result\n",
        "\n",
        "for content in df.content.values:\n",
        "    results.append([('#' + x[0]) for x in Counter(get_keywords_eng(content)).most_common(5)])\n",
        "df['keywords'] = results\n",
        "\n",
        "#insert new data into dataframe and save \n",
        "df.to_csv(r'dataset.csv')\n",
        "df\n"
      ],
      "execution_count": 10,
      "outputs": [
        {
          "output_type": "execute_result",
          "data": {
            "text/html": [
              "<div>\n",
              "<style scoped>\n",
              "    .dataframe tbody tr th:only-of-type {\n",
              "        vertical-align: middle;\n",
              "    }\n",
              "\n",
              "    .dataframe tbody tr th {\n",
              "        vertical-align: top;\n",
              "    }\n",
              "\n",
              "    .dataframe thead th {\n",
              "        text-align: right;\n",
              "    }\n",
              "</style>\n",
              "<table border=\"1\" class=\"dataframe\">\n",
              "  <thead>\n",
              "    <tr style=\"text-align: right;\">\n",
              "      <th></th>\n",
              "      <th>title</th>\n",
              "      <th>date</th>\n",
              "      <th>desc</th>\n",
              "      <th>content</th>\n",
              "      <th>keywords</th>\n",
              "    </tr>\n",
              "  </thead>\n",
              "  <tbody>\n",
              "    <tr>\n",
              "      <th>0</th>\n",
              "      <td>Coronavirus Briefing: What Happened Today</td>\n",
              "      <td>2021-03-12T23:12:19Z</td>\n",
              "      <td>An optimistic view of the weeks ahead.</td>\n",
              "      <td>What do you think the next few months look lik...</td>\n",
              "      <td>[#going, #think, #months, #look, #U.S.]</td>\n",
              "    </tr>\n",
              "    <tr>\n",
              "      <th>1</th>\n",
              "      <td>Your N.B.A. Coronavirus Questions, Answered</td>\n",
              "      <td>2021-03-11T22:49:26Z</td>\n",
              "      <td>Can fans attend all games? Will players be vac...</td>\n",
              "      <td>Why havent I seen Wayne Knight in the ads for ...</td>\n",
              "      <td>[#going, #think, #months, #chars, #Knight]</td>\n",
              "    </tr>\n",
              "    <tr>\n",
              "      <th>2</th>\n",
              "      <td>Coronavirus Briefing: What Happened Today</td>\n",
              "      <td>2021-03-11T23:32:45Z</td>\n",
              "      <td>Israel’s reopening, and  vaccine doses in limbo.</td>\n",
              "      <td>How is the Green Passport system working, for ...</td>\n",
              "      <td>[#going, #chars, #think, #months, #Knight]</td>\n",
              "    </tr>\n",
              "    <tr>\n",
              "      <th>3</th>\n",
              "      <td>Coronavirus Briefing: What Happened Today</td>\n",
              "      <td>2021-03-16T22:21:05Z</td>\n",
              "      <td>The U.S. political divide is affecting its vac...</td>\n",
              "      <td>Similar laborious efforts may have to be scale...</td>\n",
              "      <td>[#chars, #going, #think, #months, #Knight]</td>\n",
              "    </tr>\n",
              "    <tr>\n",
              "      <th>4</th>\n",
              "      <td>Coronavirus Briefing: What Happened Today</td>\n",
              "      <td>2021-03-09T23:04:24Z</td>\n",
              "      <td>People with underlying conditions are begging ...</td>\n",
              "      <td>But medical ethicists say the list is misleadi...</td>\n",
              "      <td>[#chars, #going, #think, #months, #Knight]</td>\n",
              "    </tr>\n",
              "    <tr>\n",
              "      <th>...</th>\n",
              "      <td>...</td>\n",
              "      <td>...</td>\n",
              "      <td>...</td>\n",
              "      <td>...</td>\n",
              "      <td>...</td>\n",
              "    </tr>\n",
              "    <tr>\n",
              "      <th>75</th>\n",
              "      <td>Covid-Battered Texas Faces Costly Recovery Aft...</td>\n",
              "      <td>2021-02-22T23:07:34Z</td>\n",
              "      <td>Basics remain scarce in some parts of Texas, a...</td>\n",
              "      <td>It was just crisis after crisis, said Chris Me...</td>\n",
              "      <td>[#chars, #said, #image, #coronavirus, #vaccine]</td>\n",
              "    </tr>\n",
              "    <tr>\n",
              "      <th>76</th>\n",
              "      <td>Pandemic Insurance Helped the N.C.A.A. Tournam...</td>\n",
              "      <td>2021-02-26T22:05:06Z</td>\n",
              "      <td>Event cancellation insurance is a specialized ...</td>\n",
              "      <td>The N.C.A.A. has been buying coverage for its ...</td>\n",
              "      <td>[#chars, #said, #image, #coronavirus, #vaccine]</td>\n",
              "    </tr>\n",
              "    <tr>\n",
              "      <th>77</th>\n",
              "      <td>At America’s Cup, Auckland Laments the Boats T...</td>\n",
              "      <td>2021-03-04T15:30:07Z</td>\n",
              "      <td>With strict coronavirus rules keeping out supe...</td>\n",
              "      <td>One superyacht agent, Mark Wightman, said he h...</td>\n",
              "      <td>[#chars, #said, #image, #coronavirus, #vaccine]</td>\n",
              "    </tr>\n",
              "    <tr>\n",
              "      <th>78</th>\n",
              "      <td>Texas and Other States Reopen as Covid Cases Fall</td>\n",
              "      <td>2021-03-02T21:48:28Z</td>\n",
              "      <td>As coronavirus cases fall, states are rescindi...</td>\n",
              "      <td>It was an exhilarating feeling to see that hap...</td>\n",
              "      <td>[#chars, #said, #image, #coronavirus, #year]</td>\n",
              "    </tr>\n",
              "    <tr>\n",
              "      <th>79</th>\n",
              "      <td>Kay Ivey, Alabama's Republican Governor, Resis...</td>\n",
              "      <td>2021-03-06T00:20:17Z</td>\n",
              "      <td>By most measures, Gov. Kay Ivey is a predictab...</td>\n",
              "      <td>David Mowery, an Alabama-based political consu...</td>\n",
              "      <td>[#chars, #said, #image, #coronavirus, #year]</td>\n",
              "    </tr>\n",
              "  </tbody>\n",
              "</table>\n",
              "<p>66 rows × 5 columns</p>\n",
              "</div>"
            ],
            "text/plain": [
              "                                                title  ...                                         keywords\n",
              "0           Coronavirus Briefing: What Happened Today  ...          [#going, #think, #months, #look, #U.S.]\n",
              "1         Your N.B.A. Coronavirus Questions, Answered  ...       [#going, #think, #months, #chars, #Knight]\n",
              "2           Coronavirus Briefing: What Happened Today  ...       [#going, #chars, #think, #months, #Knight]\n",
              "3           Coronavirus Briefing: What Happened Today  ...       [#chars, #going, #think, #months, #Knight]\n",
              "4           Coronavirus Briefing: What Happened Today  ...       [#chars, #going, #think, #months, #Knight]\n",
              "..                                                ...  ...                                              ...\n",
              "75  Covid-Battered Texas Faces Costly Recovery Aft...  ...  [#chars, #said, #image, #coronavirus, #vaccine]\n",
              "76  Pandemic Insurance Helped the N.C.A.A. Tournam...  ...  [#chars, #said, #image, #coronavirus, #vaccine]\n",
              "77  At America’s Cup, Auckland Laments the Boats T...  ...  [#chars, #said, #image, #coronavirus, #vaccine]\n",
              "78  Texas and Other States Reopen as Covid Cases Fall  ...     [#chars, #said, #image, #coronavirus, #year]\n",
              "79  Kay Ivey, Alabama's Republican Governor, Resis...  ...     [#chars, #said, #image, #coronavirus, #year]\n",
              "\n",
              "[66 rows x 5 columns]"
            ]
          },
          "metadata": {
            "tags": []
          },
          "execution_count": 10
        }
      ]
    },
    {
      "cell_type": "code",
      "metadata": {
        "id": "iA0Z4t9Ol6IS",
        "colab": {
          "base_uri": "https://localhost:8080/",
          "height": 198
        },
        "outputId": "0e982bb9-6230-466a-e65e-cd4ad5a91798"
      },
      "source": [
        "text = str(results)\n",
        "from wordcloud import WordCloud\n",
        "import matplotlib.pyplot as plt\n",
        "\n",
        "wordcloud = WordCloud(max_font_size=50, max_words=100, background_color=\"white\").generate(text)\n",
        "plt.figure()\n",
        "plt.imshow(wordcloud, interpolation=\"bilinear\")\n",
        "plt.axis(\"off\")\n",
        "plt.show()"
      ],
      "execution_count": 11,
      "outputs": [
        {
          "output_type": "display_data",
          "data": {
            "image/png": "[encoded data removed]",
            "text/plain": [
              "<Figure size 432x288 with 1 Axes>"
            ]
          },
          "metadata": {
            "tags": [],
            "needs_background": "light"
          }
        }
      ]
    }
  ]
}